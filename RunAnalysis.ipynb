{
 "cells": [
  {
   "cell_type": "markdown",
   "metadata": {},
   "source": [
    "# CMAP Scan MUNE Algorithms: Analysis Notebook\n",
    "\n",
    "This notebook provides a comprehensive guide to using the `STEPIX`, `CDIX`, and `Stairfit` algorithms for Motor Unit Number Estimation (MUNE) from CMAP scan data. \n",
    "\n",
    "**This workflow is divided into two main parts:**\n",
    "1.  **Single Scan Analysis & Visualization:** We will load a single example `.MEM` file, run each of the three algorithms on the same data, and visualize the output. This is useful for understanding how each algorithm works.\n",
    "2.  **Batch Processing:** We will use the `.MEF` files (which contain lists of `.MEM` files) to run the analysis on a full dataset of test/re-test scans. The results will be consolidated and saved to tidy CSV files for further statistical analysis."
   ]
  },
  {
   "cell_type": "markdown",
   "metadata": {},
   "source": [
    "## 1. Setup and Prerequisites"
   ]
  },
  {
   "cell_type": "code",
   "execution_count": null,
   "metadata": {},
   "outputs": [],
   "source": [
    "import os\n",
    "import sys\n",
    "import pandas as pd\n",
    "import numpy as np\n",
    "import plotly.graph_objects as go\n",
    "\n",
    "# Add the 'Scripts' directory to the Python path to allow importing our custom modules\n",
    "sys.path.append('Scripts')\n",
    "\n",
    "from Scripts.DataHandler import DataHandler\n",
    "from Scripts.STEPIX import SETPIX\n",
    "from Scripts.CDIX import CDIX\n",
    "from Scripts.Stairfit import Stairfit\n",
    "\n",
    "# Define directories\n",
    "DATA_DIR = 'Data/CA-EDM 9'\n",
    "RESULTS_DIR = 'Results'\n",
    "\n",
    "# Create the results directory if it doesn't exist\n",
    "os.makedirs(RESULTS_DIR, exist_ok=True)\n",
    "\n",
    "print(\"Setup complete. Libraries and scripts imported successfully.\")"
   ]
  },
  {
   "cell_type": "markdown",
   "metadata": {},
   "source": [
    "## 2. Single Scan Analysis & Visualization\n",
    "\n",
    "Here, we will analyze a single CMAP scan to demonstrate the output of each algorithm. This allows for a direct comparison of their results on the same underlying data."
   ]
  },
  {
   "cell_type": "code",
   "execution_count": null,
   "metadata": {},
   "outputs": [],
   "source": [
    "# --- Choose an example file to analyze ---\n",
    "# We'll use the first file listed in the 'CA-EDM-MSF2 APB-1 9.MEF'\n",
    "try:\n",
    "    example_mef_file = os.path.join(DATA_DIR, 'CA-EDM-MSF2 APB-1 9.MEF')\n",
    "    example_mem_list = DataHandler.get_mem_files_from_mef(example_mef_file)\n",
    "    example_file_name = example_mem_list[0] # Select the first file from the list\n",
    "    example_file_path = os.path.join(DATA_DIR, f\"{example_file_name}.MEM\")\n",
    "\n",
    "    print(f\"Selected example file: {example_file_path}\")\n",
    "\n",
    "    # Load the data using DataHandler\n",
    "    scan_data = DataHandler(example_file_path)\n",
    "\n",
    "except FileNotFoundError:\n",
    "    print(f\"Error: Make sure the example file exists at '{example_file_path}'\")\n",
    "    scan_data = None\n",
    "except IndexError:\n",
    "    print(f\"Error: The MEF file '{example_mef_file}' appears to be empty.\")\n",
    "    scan_data = None"
   ]
  },
  {
   "cell_type": "code",
   "execution_count": null,
   "metadata": {},
   "outputs": [],
   "source": [
    "# First, let's plot the raw CMAP scan data\n",
    "if scan_data:\n",
    "    fig = go.Figure()\n",
    "    fig.add_trace(go.Scatter(x=scan_data.x_trimmed, y=scan_data.y_trimmed, mode='markers', name='CMAP Data'))\n",
    "    fig.update_layout(\n",
    "        title=f'Raw CMAP Data for {scan_data.name}',\n",
    "        xaxis_title='Stimulus Intensity',\n",
    "        yaxis_title='CMAP Amplitude (mV)'\n",
    "    )\n",
    "    fig.show()"
   ]
  },
  {
   "cell_type": "markdown",
   "metadata": {},
   "source": [
    "### 2.1. STEPIX Analysis"
   ]
  },
  {
   "cell_type": "code",
   "execution_count": null,
   "metadata": {},
   "outputs": [],
   "source": [
    "if scan_data:\n",
    "    # --- Algorithm Parameters ---\n",
    "    stepix_threshold = 0.02 # Final threshold from manuscript\n",
    "    \n",
    "    # Run the algorithm\n",
    "    stepix_results = SETPIX(scan_data.y_trimmed, NoiseThreshold=stepix_threshold, plot_results=True)\n",
    "\n",
    "    print(f\"--- STEPIX Results for {scan_data.name} ---\")\n",
    "    print(f\"STEPIX: {stepix_results.STEPIX}\")\n",
    "    print(f\"AMPIX: {stepix_results.AMPIX}\")\n",
    "    print(f\"D50: {stepix_results.D50}\")\n"
   ]
  },
  {
   "cell_type": "markdown",
   "metadata": {},
   "source": [
    "### 2.2. CDIX Analysis"
   ]
  },
  {
   "cell_type": "code",
   "execution_count": null,
   "metadata": {},
   "outputs": [],
   "source": [
    "if scan_data:\n",
    "    # --- Algorithm Parameters ---\n",
    "    cdix_threshold = 3 # Final threshold from manuscript\n",
    "\n",
    "    # Run the algorithm\n",
    "    # Note: CDIX uses untrimmed data.\n",
    "    cdix_results = CDIX(scan_data.x, scan_data.y, Mean_LS=cdix_threshold, PlotResult=True)\n",
    "\n",
    "    print(f\"\\n--- CDIX Results for {scan_data.name} ---\")\n",
    "    print(f\"CDIX: {cdix_results.CDIX}\")\n",
    "    print(f\"Number of Divisions: {cdix_results.NDivs}\")\n",
    "    print(f\"Grid Size: {cdix_results.G}\")"
   ]
  },
  {
   "cell_type": "markdown",
   "metadata": {},
   "source": [
    "### 2.3. Stairfit Analysis"
   ]
  },
  {
   "cell_type": "code",
   "execution_count": null,
   "metadata": {},
   "outputs": [],
   "source": [
    "if scan_data:\n",
    "    # --- Algorithm Parameters ---\n",
    "    stairfit_threshold = 0.015\n",
    "    stairfit_mu_range = range(30, 200) # A reasonable search range for motor units\n",
    "\n",
    "    # Run the algorithm\n",
    "    # Note: Stairfit uses trimmed data.\n",
    "    stairfit_results = Stairfit(scan_data.x_trimmed, scan_data.y_trimmed, \n",
    "                                termination_threshold=stairfit_threshold, \n",
    "                                MURange=stairfit_mu_range, \n",
    "                                Calc_Thres=True, \n",
    "                                PlotResult=True)\n",
    "\n",
    "    print(f\"\\n--- Stairfit Results for {scan_data.name} ---\")\n",
    "    print(f\"MUNE (M): {stairfit_results.M}\")"
   ]
  },
  {
   "cell_type": "markdown",
   "metadata": {},
   "source": [
    "## 3. Batch Processing and Saving Results\n",
    "\n",
    "Now we will loop through all the `.MEM` files specified in the `.MEF` files for the test/re-test dataset. We'll run each algorithm and save the collated results into separate CSV files in the `Results` directory."
   ]
  },
  {
   "cell_type": "code",
   "execution_count": null,
   "metadata": {},
   "outputs": [],
   "source": [
    "# Define the MEF files to process. This dictionary maps a descriptive\n",
    "mef_file_map = {\n",
    "    'APB_V1': os.path.join(DATA_DIR, 'CA-EDM-MSF2 APB-1 9.MEF'),\n",
    "    'APB_V2': os.path.join(DATA_DIR, 'CA-EDM-MSF2 APB-2 9.MEF'),\n",
    "    'ADM_V1': os.path.join(DATA_DIR, 'CA-EDM-MSF2 ADM-1 9.MEF'),\n",
    "    'ADM_V2': os.path.join(DATA_DIR, 'CA-EDM-MSF2 ADM-2 9.MEF'),\n",
    "    'TA_V1': os.path.join(DATA_DIR, 'CA-EDM-MSF2 TA-1 9.MEF'),\n",
    "    'TA_V2': os.path.join(DATA_DIR, 'CA-EDM-MSF2 TA-2 9.MEF'),\n",
    "}\n",
    "print(\"Beginning batch processing...\")"
   ]
  },
  {
   "cell_type": "markdown",
   "metadata": {},
   "source": [
    "### 3.1 CDIX Batch Analysis"
   ]
  },
  {
   "cell_type": "code",
   "execution_count": null,
   "metadata": {},
   "outputs": [],
   "source": [
    "all_cdix_results = []\n",
    "\n",
    "for condition, mef_path in mef_file_map.items():\n",
    "    print(f\"--- Running CDIX for: {condition} ---\")\n",
    "    mem_files = DataHandler.get_mem_files_from_mef(mef_path)\n",
    "    for mem_file in mem_files:\n",
    "        file_path = os.path.join(DATA_DIR, f\"{mem_file}.MEM\")\n",
    "        try:\n",
    "            data = DataHandler(file_path)\n",
    "            # Use the same threshold as the single analysis\n",
    "            results = CDIX(data.x, data.y, Mean_LS=cdix_threshold, PlotResult=False) # Plotting is off for batch processing\n",
    "            all_cdix_results.append({\n",
    "                'Condition': condition,\n",
    "                'Filename': data.name,\n",
    "                'CDIX': results.CDIX,\n",
    "                'NDivs': results.NDivs,\n",
    "                'Gridsize': results.G\n",
    "            })\n",
    "        except Exception as e:\n",
    "            print(f\"  Could not process {mem_file}. Error: {e}\")\n",
    "\n",
    "# Convert to DataFrame and save\n",
    "cdix_df = pd.DataFrame(all_cdix_results)\n",
    "cdix_output_path = os.path.join(RESULTS_DIR, 'batch_results_cdix.csv')\n",
    "cdix_df.to_csv(cdix_output_path, index=False)\n",
    "\n",
    "print(f\"\\nCDIX batch processing complete. Results saved to '{cdix_output_path}'\")\n",
    "display(cdix_df.head())"
   ]
  },
  {
   "cell_type": "markdown",
   "metadata": {},
   "source": [
    "### 3.2 Stairfit Batch Analysis"
   ]
  },
  {
   "cell_type": "code",
   "execution_count": null,
   "metadata": {},
   "outputs": [],
   "source": [
    "all_stairfit_results = []\n",
    "\n",
    "for condition, mef_path in mef_file_map.items():\n",
    "    print(f\"--- Running Stairfit for: {condition} ---\")\n",
    "    mem_files = DataHandler.get_mem_files_from_mef(mef_path)\n",
    "    for mem_file in mem_files:\n",
    "        file_path = os.path.join(DATA_DIR, f\"{mem_file}.MEM\")\n",
    "        try:\n",
    "            data = DataHandler(file_path)\n",
    "            results = Stairfit(data.x_trimmed, data.y_trimmed, \n",
    "                               termination_threshold=stairfit_threshold, \n",
    "                               MURange=stairfit_mu_range, \n",
    "                               Calc_Thres=False, \n",
    "                               PlotResult=False) # Plotting is off for batch processing\n",
    "            all_stairfit_results.append({\n",
    "                'Condition': condition,\n",
    "                'Filename': data.name,\n",
    "                'MUNE': results.M\n",
    "            })\n",
    "        except Exception as e:\n",
    "            print(f\"  Could not process {mem_file}. Error: {e}\")\n",
    "\n",
    "# Convert to DataFrame and save\n",
    "stairfit_df = pd.DataFrame(all_stairfit_results)\n",
    "stairfit_output_path = os.path.join(RESULTS_DIR, 'batch_results_stairfit.csv')\n",
    "stairfit_df.to_csv(stairfit_output_path, index=False)\n",
    "\n",
    "print(f\"\\nStairfit batch processing complete. Results saved to '{stairfit_output_path}'\")\n",
    "display(stairfit_df.head())"
   ]
  },
  {
   "cell_type": "markdown",
   "metadata": {},
   "source": [
    "### 3.3 STEPIX Batch Analysis"
   ]
  },
  {
   "cell_type": "code",
   "execution_count": null,
   "metadata": {},
   "outputs": [],
   "source": [
    "all_stepix_results = []\n",
    "\n",
    "for condition, mef_path in mef_file_map.items():\n",
    "    print(f\"--- Running STEPIX for: {condition} ---\")\n",
    "    mem_files = DataHandler.get_mem_files_from_mef(mef_path)\n",
    "    for mem_file in mem_files:\n",
    "        file_path = os.path.join(DATA_DIR, f\"{mem_file}.MEM\")\n",
    "        try:\n",
    "            data = DataHandler(file_path)\n",
    "            results = SETPIX(data.y_trimmed, NoiseThreshold=stepix_threshold)\n",
    "            all_stepix_results.append({\n",
    "                'Condition': condition,\n",
    "                'Filename': data.name,\n",
    "                'STEPIX': results.STEPIX,\n",
    "                'AMPIX': results.AMPIX,\n",
    "                'D50': results.D50\n",
    "            })\n",
    "        except Exception as e:\n",
    "            print(f\"  Could not process {mem_file}. Error: {e}\")\n",
    "\n",
    "# Convert to DataFrame and save\n",
    "stepix_df = pd.DataFrame(all_stepix_results)\n",
    "stepix_output_path = os.path.join(RESULTS_DIR, 'batch_results_stepix.csv')\n",
    "stepix_df.to_csv(stepix_output_path, index=False)\n",
    "\n",
    "print(f\"\\nSTEPIX batch processing complete. Results saved to '{stepix_output_path}'\")\n",
    "display(stepix_df.head())"
   ]
  }
 ],
 "metadata": {
  "kernelspec": {
   "display_name": "base",
   "language": "python",
   "name": "python3"
  },
  "language_info": {
   "codemirror_mode": {
    "name": "ipython",
    "version": 3
   },
   "file_extension": ".py",
   "mimetype": "text/x-python",
   "name": "python",
   "nbconvert_exporter": "python",
   "pygments_lexer": "ipython3",
   "version": "3.9.12"
  }
 },
 "nbformat": 4,
 "nbformat_minor": 4
}
